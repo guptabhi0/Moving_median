{
 "cells": [
  {
   "cell_type": "code",
   "execution_count": 1,
   "metadata": {},
   "outputs": [],
   "source": [
    "\n",
    "def moving_median(l):\n",
    "    '''\n",
    "    Moving Median Have the function MovingMedian(arr) read the array \n",
    "    of numbers stored in arr which will contain a sliding window size,\n",
    "    N, as the first element in the array and the rest will be a list of numbers.\n",
    "    Your program should return the Moving Median for each element based on the element \n",
    "    and its N-1 predecessors, where N is the sliding window size. \n",
    "    The final output should be a string with the moving median \n",
    "    corresponding to each entry in the original array separated by commas.\n",
    "    Note that for the first few elements (until the window size is reached), \n",
    "    the median is computed on a smaller number of entries. \n",
    "    For example: if arr is [3, 1, 3, 5, 10, 6, 4, 3, 1] \n",
    "    then your program should output \"1,2,3,5,6,6,4,3\"\n",
    "    '''\n",
    "    n=l[0]\n",
    "    l=l[1:]\n",
    "    t,t1,ans=[],[],[]\n",
    "    try:\n",
    "        for i in range(len(l)):\n",
    "            t1.append(l[i])\n",
    "            if len(t1)>n:\n",
    "                t1=t1[1:]\n",
    "            t=t1.copy()\n",
    "            t.sort()\n",
    "            if len(t)==1:\n",
    "                ans.append(t[0])\n",
    "            elif len(t)==2:\n",
    "                ans.append(int((t[0]+t[1])/2))\n",
    "            elif len(t)%2!=0:\n",
    "                mid=int(len(t)/2)\n",
    "                ans.append(t[mid])\n",
    "            else:\n",
    "                mid=int(len(t)/2)\n",
    "                mid2=mid-1\n",
    "                ans.append(int((t[mid]+t[mid2])/2))\n",
    "        print(*ans)\n",
    "    except Exception as e:\n",
    "        print(\"Thers is an error occured:\",e)\n"
   ]
  },
  {
   "cell_type": "code",
   "execution_count": 2,
   "metadata": {},
   "outputs": [
    {
     "name": "stdout",
     "output_type": "stream",
     "text": [
      "3 1 3 5 10 6 4 3 1\n",
      "1 2 3 5 6 6 4 3\n"
     ]
    }
   ],
   "source": [
    "moving_median(l=list(map(int,input().split())))"
   ]
  }
 ],
 "metadata": {
  "kernelspec": {
   "display_name": "Python 3",
   "language": "python",
   "name": "python3"
  },
  "language_info": {
   "codemirror_mode": {
    "name": "ipython",
    "version": 3
   },
   "file_extension": ".py",
   "mimetype": "text/x-python",
   "name": "python",
   "nbconvert_exporter": "python",
   "pygments_lexer": "ipython3",
   "version": "3.8.3"
  }
 },
 "nbformat": 4,
 "nbformat_minor": 4
}
